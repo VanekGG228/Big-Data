{
 "cells": [
  {
   "cell_type": "markdown",
   "id": "d3df79dd",
   "metadata": {},
   "source": [
    "## Упражнения по библиотеке Numpy"
   ]
  },
  {
   "cell_type": "code",
   "execution_count": 44,
   "id": "76b9c43b",
   "metadata": {},
   "outputs": [],
   "source": [
    "import numpy as np"
   ]
  },
  {
   "cell_type": "markdown",
   "id": "03727b7c",
   "metadata": {},
   "source": [
    "**1.** Дан случайный массив, поменять знак у элементов, значения которых между 3 и 8"
   ]
  },
  {
   "cell_type": "code",
   "execution_count": 45,
   "id": "b89a7523",
   "metadata": {},
   "outputs": [
    {
     "data": {
      "text/plain": [
       "array([ 0,  1,  2,  3, -4, -5, -6, -7,  8,  9])"
      ]
     },
     "execution_count": 45,
     "metadata": {},
     "output_type": "execute_result"
    }
   ],
   "source": [
    "mas = np.arange(10)\n",
    "mas[(mas>3) & (mas<8)] *=-1\n",
    "mas"
   ]
  },
  {
   "cell_type": "markdown",
   "id": "5fa4abda",
   "metadata": {},
   "source": [
    "**2.** Заменить максимальный элемент случайного массива на 0"
   ]
  },
  {
   "cell_type": "code",
   "execution_count": 46,
   "id": "f2788a6e",
   "metadata": {},
   "outputs": [
    {
     "data": {
      "text/plain": [
       "array([0.72852899, 0.8954206 , 0.        , 0.00575881, 0.0034131 ,\n",
       "       0.90076203, 0.52189847, 0.72028262, 0.3324747 , 0.15868121])"
      ]
     },
     "execution_count": 46,
     "metadata": {},
     "output_type": "execute_result"
    }
   ],
   "source": [
    "mas = np.random.random(10)\n",
    "mas[mas==mas.max()] = 0\n",
    "mas"
   ]
  },
  {
   "cell_type": "markdown",
   "id": "3cac656b",
   "metadata": {},
   "source": [
    "**3.** Построить прямое произведение массивов (все комбинации с каждым элементом). На вход подается двумерный массив"
   ]
  },
  {
   "cell_type": "code",
   "execution_count": 47,
   "id": "3396b764",
   "metadata": {},
   "outputs": [
    {
     "data": {
      "text/plain": [
       "array([[1, 4, 6],\n",
       "       [1, 4, 7],\n",
       "       [1, 5, 6],\n",
       "       [1, 5, 7],\n",
       "       [2, 4, 6],\n",
       "       [2, 4, 7],\n",
       "       [2, 5, 6],\n",
       "       [2, 5, 7],\n",
       "       [3, 4, 6],\n",
       "       [3, 4, 7],\n",
       "       [3, 5, 6],\n",
       "       [3, 5, 7]])"
      ]
     },
     "execution_count": 47,
     "metadata": {},
     "output_type": "execute_result"
    }
   ],
   "source": [
    "def straight_multiply(arrays):\n",
    "    arrays = [np.asarray(a) for a in arrays]   \n",
    "    shape = map(len, arrays)\n",
    "    \n",
    "    ix = np.indices(shape, dtype=int)\n",
    "    ix = ix.reshape(len(arrays), -1).T\n",
    "    \n",
    "    for n, arr in enumerate(arrays):\n",
    "        ix[:, n] = arrays[n][ix[:, n]]\n",
    "\n",
    "    return ix\n",
    "\n",
    "straight_multiply([[1, 2, 3], [4, 5], [6, 7]])"
   ]
  },
  {
   "cell_type": "markdown",
   "id": "674c9354",
   "metadata": {},
   "source": [
    "**4.** Даны 2 массива A (8x3) и B (2x2). Найти строки в A, которые содержат элементы из каждой строки в B, независимо от порядка элементов в B"
   ]
  },
  {
   "cell_type": "code",
   "execution_count": 48,
   "id": "cb664782",
   "metadata": {},
   "outputs": [
    {
     "name": "stdout",
     "output_type": "stream",
     "text": [
      "[[4 4 3]\n",
      " [2 4 1]\n",
      " [4 2 4]\n",
      " [0 0 3]\n",
      " [0 0 0]\n",
      " [1 0 0]\n",
      " [0 0 4]\n",
      " [0 3 0]]\n",
      "[[0 1]\n",
      " [2 0]]\n",
      "[1, 3, 4, 5, 6, 7]\n"
     ]
    }
   ],
   "source": [
    "A = np.random.randint(0,5,(8,3))\n",
    "B = np.random.randint(0,5,(2,2))\n",
    "print(A)\n",
    "print(B)\n",
    "result = []\n",
    "for ind,arr in enumerate(A):\n",
    "    fl = True\n",
    "    for row in B:\n",
    "        was = False\n",
    "\n",
    "        for elem in row:\n",
    "            if elem in arr:\n",
    "                was = True\n",
    "                break\n",
    "\n",
    "        if not was:\n",
    "            fl = False\n",
    "            break\n",
    "    if (fl):\n",
    "        result.append(ind)\n",
    "\n",
    "print(result) #тут я не нашел адекватного решения через numpy       "
   ]
  },
  {
   "cell_type": "markdown",
   "id": "fa46533b",
   "metadata": {},
   "source": [
    "**5.** Дана 10x3 матрица, найти строки из неравных значений (например строка [2,2,3] остается, строка [3,3,3] удаляется)"
   ]
  },
  {
   "cell_type": "code",
   "execution_count": 49,
   "id": "fa545b23",
   "metadata": {},
   "outputs": [
    {
     "name": "stdout",
     "output_type": "stream",
     "text": [
      "[[2 3 0]\n",
      " [4 3 3]\n",
      " [3 1 4]\n",
      " [4 1 4]\n",
      " [3 0 3]\n",
      " [1 0 0]\n",
      " [3 0 4]\n",
      " [3 1 3]\n",
      " [3 1 0]\n",
      " [4 3 1]]\n",
      "[[2 3 0]\n",
      " [4 3 3]\n",
      " [3 1 4]\n",
      " [4 1 4]\n",
      " [3 0 3]\n",
      " [1 0 0]\n",
      " [3 0 4]\n",
      " [3 1 3]\n",
      " [3 1 0]\n",
      " [4 3 1]]\n"
     ]
    }
   ],
   "source": [
    "Z = np.random.randint(0,5,(10,3))\n",
    "print(Z)\n",
    "E = np.logical_and.reduce(Z[:,1:] == Z[:,:-1], axis=1)\n",
    "U = Z[~E]\n",
    "print(U)"
   ]
  },
  {
   "cell_type": "markdown",
   "id": "28f0d116",
   "metadata": {},
   "source": [
    "**6.** Дан двумерный массив. Удалить те строки, которые повторяются"
   ]
  },
  {
   "cell_type": "code",
   "execution_count": 50,
   "id": "83d2c0b7",
   "metadata": {},
   "outputs": [
    {
     "name": "stdout",
     "output_type": "stream",
     "text": [
      "[[1 2 3]\n",
      " [4 5 6]\n",
      " [7 8 9]]\n"
     ]
    }
   ],
   "source": [
    "matrix = np.array([[1, 2, 3],\n",
    "                   [4, 5, 6],\n",
    "                   [1, 2, 3],\n",
    "                   [7, 8, 9]])\n",
    "\n",
    "unique_matrix = np.unique(matrix, axis=0)\n",
    "print(unique_matrix)"
   ]
  },
  {
   "cell_type": "markdown",
   "id": "6daa9e37",
   "metadata": {},
   "source": [
    "______\n",
    "______"
   ]
  },
  {
   "cell_type": "markdown",
   "id": "cfbfcaff",
   "metadata": {},
   "source": [
    "Для каждой из следующих задач (1-5) нужно привести 2 реализации – одна без использования numpy (cчитайте, что там, где на входе или выходе должны быть numpy array, будут просто списки), а вторая полностью векторизованная с использованием numpy (без использования питоновских циклов/map/list comprehension).\n",
    "\n",
    "\n",
    "__Замечание 1.__ Можно считать, что все указанные объекты непустые (к примеру, в __задаче 1__ на диагонали матрицы есть ненулевые элементы).\n",
    "\n",
    "__Замечание 2.__ Для большинства задач решение занимает не больше 1-2 строк."
   ]
  },
  {
   "cell_type": "markdown",
   "id": "673cac7f",
   "metadata": {},
   "source": [
    "___"
   ]
  },
  {
   "cell_type": "markdown",
   "id": "ca6f585e",
   "metadata": {},
   "source": [
    "* __Задача 1__: Подсчитать произведение ненулевых элементов на диагонали прямоугольной матрицы.  \n",
    " Например, для X = np.array([[1, 0, 1], [2, 0, 2], [3, 0, 3], [4, 4, 4]]) ответ 3."
   ]
  },
  {
   "cell_type": "code",
   "execution_count": 51,
   "id": "065862fc",
   "metadata": {},
   "outputs": [
    {
     "name": "stdout",
     "output_type": "stream",
     "text": [
      "python -  3\n",
      "numpy -  3\n"
     ]
    }
   ],
   "source": [
    "X = np.array([[1, 0, 1], [2, 0, 2], [3, 0, 3], [4, 4, 4]])\n",
    "\n",
    "def pyth_def_prod_of_diag(X):\n",
    "    n,m = X.shape\n",
    "    i = 0\n",
    "    result = 1\n",
    "    while(i<n and i<m):\n",
    "        if (X[i,i]!=0):\n",
    "            result*=X[i,i]\n",
    "        i+=1    \n",
    "    return result\n",
    "\n",
    "def numpy_prod_of_diag(X):\n",
    "    diagonal_elements = np.diagonal(X)\n",
    "    return np.prod(diagonal_elements[diagonal_elements != 0])\n",
    "\n",
    "\n",
    "print(\"python - \",pyth_def_prod_of_diag(X))\n",
    "print(\"numpy - \",numpy_prod_of_diag(X))"
   ]
  },
  {
   "cell_type": "markdown",
   "id": "9fc51d41",
   "metadata": {},
   "source": [
    "* __Задача 2__: Даны два вектора x и y. Проверить, задают ли они одно и то же мультимножество.  \n",
    "  Например, для x = np.array([1, 2, 2, 4]), y = np.array([4, 2, 1, 2]) ответ True."
   ]
  },
  {
   "cell_type": "code",
   "execution_count": 53,
   "id": "a809e02f",
   "metadata": {},
   "outputs": [
    {
     "name": "stdout",
     "output_type": "stream",
     "text": [
      "python -  True\n",
      "numpy -  True\n"
     ]
    }
   ],
   "source": [
    "X = np.array([1, 0,4,1])\n",
    "Y = np.array([0, 1, 4, 1])\n",
    "def pyth_def_multiset(X,Y):\n",
    "    count_x = {}\n",
    "    count_y = {}\n",
    "    for item in X:\n",
    "        count_x[item] = count_x.get(item, 0) + 1\n",
    "    for item in Y:\n",
    "        count_y[item] = count_y.get(item, 0) + 1\n",
    "\n",
    "    return count_x == count_y\n",
    "\n",
    "def numpy_prod__multiset(X,Y):\n",
    "    unique_x, counts_x = np.unique(X, return_counts=True)\n",
    "    unique_y, counts_y = np.unique(Y, return_counts=True)\n",
    "    return np.array_equal(unique_x, unique_y) and np.array_equal(counts_x, counts_y)\n",
    "\n",
    "\n",
    "print(\"python - \",pyth_def_multiset(X,Y))\n",
    "print(\"numpy - \",numpy_prod__multiset(X,Y))"
   ]
  },
  {
   "cell_type": "markdown",
   "id": "b9c185c7",
   "metadata": {},
   "source": [
    "* __Задача 3__: Найти максимальный элемент в векторе x среди элементов, перед которыми стоит ноль. \n",
    " Например, для x = np.array([6, 2, 0, 3, 0, 0, 5, 7, 0]) ответ 5."
   ]
  },
  {
   "cell_type": "code",
   "execution_count": 62,
   "id": "b57df008",
   "metadata": {},
   "outputs": [
    {
     "name": "stdout",
     "output_type": "stream",
     "text": [
      "python -  5\n",
      "numpy -  5\n"
     ]
    }
   ],
   "source": [
    "x = np.array([6, 2, 0, 3, 0, 0, 5, 7, 0])\n",
    "\n",
    "def pyth_def_max_after_0(x):\n",
    "    max_item = -float('inf')\n",
    "    for i in range(1,len(x)):\n",
    "        if (x[i-1]==0 and x[i]>max_item):\n",
    "            max_item = x[i]\n",
    "    return max_item        \n",
    "\n",
    "def numpy_prod_max_after_0(x):\n",
    "    after_zeros = x[np.where(np.roll(x, 1) == 0)]\n",
    "    if x[-1]==0:\n",
    "        if after_zeros.size>1:\n",
    "            after_zeros[0]= after_zeros[1]\n",
    "        else:\n",
    "            return -float('inf')\n",
    "    return after_zeros.max() if after_zeros.size>0 else -float('inf')\n",
    "\n",
    "\n",
    "print(\"python - \",pyth_def_max_after_0(x))\n",
    "print(\"numpy - \",numpy_prod_max_after_0(x))"
   ]
  },
  {
   "cell_type": "markdown",
   "id": "480be4ce",
   "metadata": {},
   "source": [
    "* __Задача 4__: Реализовать кодирование длин серий (Run-length encoding). Для некоторого вектора x необходимо вернуть кортеж из двух векторов одинаковой длины. Первый содержит числа, а второй - сколько раз их нужно повторить.  \n",
    " Например, для x = np.array([2, 2, 2, 3, 3, 3, 5]) ответ (np.array([2, 3, 5]), np.array([3, 3, 1]))."
   ]
  },
  {
   "cell_type": "code",
   "execution_count": 69,
   "id": "3c592124",
   "metadata": {},
   "outputs": [
    {
     "name": "stdout",
     "output_type": "stream",
     "text": [
      "python -  ([2, 3, 5], [3, 3, 1])\n",
      "numpy -  (array([2, 3, 5]), array([3, 3, 1]))\n"
     ]
    }
   ],
   "source": [
    "x = np.array([2, 2, 2, 3, 3, 3, 5])\n",
    "\n",
    "def pyth_def_run_length_enc(x):\n",
    "    count_x = {}\n",
    "    for item in x:\n",
    "        count_x[item] = count_x.get(item, 0) + 1\n",
    "    keys =[]\n",
    "    counts = []    \n",
    "    for key, value in count_x.items():\n",
    "        keys.append(int(key))\n",
    "        counts.append(value)\n",
    "\n",
    "    return (keys,counts)  \n",
    "\n",
    "def numpy_run_length_enc(x):\n",
    "    return np.unique(x, return_counts=True)\n",
    "\n",
    "\n",
    "print(\"python - \",pyth_def_run_length_enc(x))\n",
    "print(\"numpy - \",numpy_run_length_enc(x))"
   ]
  },
  {
   "cell_type": "markdown",
   "id": "077532ec",
   "metadata": {},
   "source": [
    "* __Задача 5__: Даны две выборки объектов - X и Y. Вычислить матрицу евклидовых расстояний между объектами. Сравните с функцией scipy.spatial.distance.cdist по скорости работы."
   ]
  },
  {
   "cell_type": "code",
   "execution_count": 72,
   "id": "1e807797",
   "metadata": {},
   "outputs": [
    {
     "name": "stdout",
     "output_type": "stream",
     "text": [
      "NumPy время выполнения: 0.08208966255187988\n",
      "Обычный Python время выполнения: 3.7022950649261475\n",
      "SciPy время выполнения: 0.005000114440917969\n"
     ]
    }
   ],
   "source": [
    "import scipy.spatial.distance as distance\n",
    "import time\n",
    "\n",
    "np.random.seed(0)\n",
    "X = np.random.rand(1000, 10)  \n",
    "Y = np.random.rand(1000, 10)\n",
    "\n",
    "def numpy_euclidean_distance(X, Y):\n",
    "    dists = np.sqrt(np.sum((X[:, np.newaxis, :] - Y[np.newaxis, :, :]) ** 2, axis=-1))\n",
    "    return dists\n",
    "\n",
    "\n",
    "def python_euclidean_distance(X, Y):\n",
    "    dists = []\n",
    "    for x in X:\n",
    "        row = []\n",
    "        for y in Y:\n",
    "            dist = sum((xi - yi) ** 2 for xi, yi in zip(x, y)) ** 0.5\n",
    "            row.append(dist)\n",
    "        dists.append(row)\n",
    "    return dists\n",
    "\n",
    "\n",
    "def scipy_euclidean_distance(X, Y):\n",
    "    return distance.cdist(X, Y, 'euclidean')\n",
    "\n",
    "\n",
    "start_time = time.time()\n",
    "numpy_dists = numpy_euclidean_distance(X, Y)\n",
    "numpy_time = time.time() - start_time\n",
    "\n",
    "start_time = time.time()\n",
    "python_dists = python_euclidean_distance(X, Y)\n",
    "python_time = time.time() - start_time\n",
    "\n",
    "start_time = time.time()\n",
    "scipy_dists = scipy_euclidean_distance(X, Y)\n",
    "scipy_time = time.time() - start_time\n",
    "\n",
    "print(\"NumPy время выполнения:\", numpy_time)\n",
    "print(\"Обычный Python время выполнения:\", python_time)\n",
    "print(\"SciPy время выполнения:\", scipy_time)\n"
   ]
  },
  {
   "cell_type": "markdown",
   "id": "973e8064",
   "metadata": {},
   "source": [
    "_______\n",
    "________"
   ]
  },
  {
   "cell_type": "markdown",
   "id": "1104acb7",
   "metadata": {},
   "source": [
    "* #### __Задача 6__: CrunchieMunchies __*__\n",
    "\n",
    "Вы работаете в отделе маркетинга пищевой компании MyCrunch, которая разрабатывает новый вид вкусных, полезных злаков под названием **CrunchieMunchies**.\n",
    "\n",
    "Вы хотите продемонстрировать потребителям, насколько полезны ваши хлопья по сравнению с другими ведущими брендами, поэтому вы собрали данные о питании нескольких разных конкурентов.\n",
    "\n",
    "Ваша задача - использовать вычисления Numpy для анализа этих данных и доказать, что ваши **СrunchieMunchies** - самый здоровый выбор для потребителей.\n"
   ]
  },
  {
   "cell_type": "code",
   "execution_count": 2,
   "id": "10a77f8d",
   "metadata": {},
   "outputs": [],
   "source": [
    "import numpy as np"
   ]
  },
  {
   "cell_type": "markdown",
   "id": "ab87cb03",
   "metadata": {},
   "source": [
    "1. Просмотрите файл cereal.csv. Этот файл содержит количества калорий для различных марок хлопьев. Загрузите данные из файла и сохраните их как calorie_stats."
   ]
  },
  {
   "cell_type": "code",
   "execution_count": 3,
   "id": "9681ebf2",
   "metadata": {},
   "outputs": [
    {
     "data": {
      "text/plain": [
       "array([ 70., 120.,  70.,  50., 110., 110., 110., 130.,  90.,  90., 120.,\n",
       "       110., 120., 110., 110., 110., 100., 110., 110., 110., 100., 110.,\n",
       "       100., 100., 110., 110., 100., 120., 120., 110., 100., 110., 100.,\n",
       "       110., 120., 120., 110., 110., 110., 140., 110., 100., 110., 100.,\n",
       "       150., 150., 160., 100., 120., 140.,  90., 130., 120., 100.,  50.,\n",
       "        50., 100., 100., 120., 100.,  90., 110., 110.,  80.,  90.,  90.,\n",
       "       110., 110.,  90., 110., 140., 100., 110., 110., 100., 100., 110.])"
      ]
     },
     "execution_count": 3,
     "metadata": {},
     "output_type": "execute_result"
    }
   ],
   "source": [
    "calorie_stats = np.loadtxt(\"./data/cereal.csv\", delimiter=\",\")\n",
    "calorie_stats"
   ]
  },
  {
   "cell_type": "markdown",
   "id": "139cfbd8",
   "metadata": {},
   "source": [
    "2. В одной порции CrunchieMunchies содержится 60 калорий. Насколько выше среднее количество калорий у ваших конкурентов?\n",
    "\n",
    "Сохраните ответ в переменной average_calories и распечатайте переменную в терминале"
   ]
  },
  {
   "cell_type": "code",
   "execution_count": 6,
   "id": "7036d240",
   "metadata": {},
   "outputs": [
    {
     "data": {
      "text/plain": [
       "np.float64(106.88311688311688)"
      ]
     },
     "execution_count": 6,
     "metadata": {},
     "output_type": "execute_result"
    }
   ],
   "source": [
    "average_calories = np.mean(calorie_stats)\n",
    "average_calories"
   ]
  },
  {
   "cell_type": "markdown",
   "id": "b2ddb4cd",
   "metadata": {},
   "source": [
    "3. Корректно ли среднее количество калорий отражает распределение набора данных? Давайте отсортируем данные и посмотрим.\n",
    "\n",
    "Отсортируйте данные и сохраните результат в переменной calorie_stats_sorted. Распечатайте отсортированную информацию"
   ]
  },
  {
   "cell_type": "code",
   "execution_count": 9,
   "id": "46eeb4ed",
   "metadata": {},
   "outputs": [
    {
     "data": {
      "text/plain": [
       "array([ 50.,  50.,  50.,  70.,  70.,  80.,  90.,  90.,  90.,  90.,  90.,\n",
       "        90.,  90., 100., 100., 100., 100., 100., 100., 100., 100., 100.,\n",
       "       100., 100., 100., 100., 100., 100., 100., 100., 110., 110., 110.,\n",
       "       110., 110., 110., 110., 110., 110., 110., 110., 110., 110., 110.,\n",
       "       110., 110., 110., 110., 110., 110., 110., 110., 110., 110., 110.,\n",
       "       110., 110., 110., 110., 120., 120., 120., 120., 120., 120., 120.,\n",
       "       120., 120., 120., 130., 130., 140., 140., 140., 150., 150., 160.])"
      ]
     },
     "execution_count": 9,
     "metadata": {},
     "output_type": "execute_result"
    }
   ],
   "source": [
    "calorie_stats_sorted = np.sort(calorie_stats)\n",
    "calorie_stats_sorted"
   ]
  },
  {
   "cell_type": "markdown",
   "id": "4dc74116",
   "metadata": {},
   "source": [
    "4. Похоже, что большинство значений выше среднего. Давайте посмотрим, является ли медиана наиболее корректным показателем набора данных.\n",
    "\n",
    "Вычислите медиану набора данных и сохраните свой ответ в median_calories. Выведите медиану, чтобы вы могли видеть, как она сравнивается со средним значением."
   ]
  },
  {
   "cell_type": "code",
   "execution_count": 11,
   "id": "b56627c3",
   "metadata": {},
   "outputs": [
    {
     "data": {
      "text/plain": [
       "np.float64(110.0)"
      ]
     },
     "execution_count": 11,
     "metadata": {},
     "output_type": "execute_result"
    }
   ],
   "source": [
    "median_calories = np.median(calorie_stats)\n",
    "median_calories"
   ]
  },
  {
   "cell_type": "markdown",
   "id": "a63ab72f",
   "metadata": {},
   "source": [
    "5. В то время как медиана показывает, что по крайней мере половина наших значений составляет более 100 калорий, было бы более впечатляюще показать, что значительная часть конкурентов имеет более высокое количество калорий, чем CrunchieMunchies.\n",
    "\n",
    "Рассчитайте различные процентили и распечатайте их, пока не найдете наименьший процентиль, превышающий 60 калорий. Сохраните это значение в переменной nth_percentile."
   ]
  },
  {
   "cell_type": "code",
   "execution_count": 21,
   "id": "fe80ce03",
   "metadata": {},
   "outputs": [
    {
     "name": "stdout",
     "output_type": "stream",
     "text": [
      "percentile: 50.0\n",
      "percentile: 50.0\n",
      "percentile: 55.599999999999994\n",
      "percentile: 70.0\n",
      "The smallest percentile greater than 60 calories is: 70.0 with probability 4%\n"
     ]
    }
   ],
   "source": [
    "nth_percentile = None\n",
    "for p in range(1, 101):\n",
    "    percentile_value = np.percentile(calorie_stats, p)\n",
    "    print(f\"percentile: {percentile_value}\")\n",
    "\n",
    "    if percentile_value > 60:\n",
    "        nth_percentile = percentile_value\n",
    "        break  \n",
    "print(f\"The smallest percentile greater than 60 calories is: {nth_percentile} with probability {p}%\")\n"
   ]
  },
  {
   "cell_type": "markdown",
   "id": "a2a3c5aa",
   "metadata": {},
   "source": [
    "6. Хотя процентиль показывает нам, что у большинства конкурентов количество калорий намного выше, это неудобная концепция для использования в маркетинговых материалах.\n",
    "\n",
    "Вместо этого давайте подсчитаем процент хлопьев, в которых содержится более 60 калорий на порцию. Сохраните свой ответ в переменной more_calories и распечатайте его"
   ]
  },
  {
   "cell_type": "code",
   "execution_count": 27,
   "id": "ade0f6ea",
   "metadata": {},
   "outputs": [
    {
     "name": "stdout",
     "output_type": "stream",
     "text": [
      "Percentage of cereals with more than 60 calories: 96.10%\n"
     ]
    }
   ],
   "source": [
    "\n",
    "more_calories = (np.sum(calorie_stats > 60) / calorie_stats.size) * 100\n",
    "print(f\"Percentage of cereals with more than 60 calories: {more_calories:.2f}%\")\n"
   ]
  },
  {
   "cell_type": "markdown",
   "id": "1735d65b",
   "metadata": {},
   "source": [
    "7. Это действительно высокий процент. Это будет очень полезно, когда мы будем продвигать CrunchieMunchies. Но один вопрос заключается в том, насколько велики различия в наборе данных? Можем ли мы сделать обобщение, что в большинстве злаков содержится около 100 калорий или разброс еще больше?\n",
    "\n",
    "Рассчитайте величину отклонения, найдя стандартное отклонение, Сохраните свой ответ в calorie_std и распечатайте на терминале. Как мы можем включить эту ценность в наш анализ?"
   ]
  },
  {
   "cell_type": "code",
   "execution_count": 29,
   "id": "85c8df1f",
   "metadata": {},
   "outputs": [
    {
     "data": {
      "text/plain": [
       "np.float64(19.35718533390827)"
      ]
     },
     "execution_count": 29,
     "metadata": {},
     "output_type": "execute_result"
    }
   ],
   "source": [
    "calorie_std = np.std(calorie_stats)\n",
    "calorie_std"
   ]
  },
  {
   "cell_type": "markdown",
   "id": "037455c5",
   "metadata": {},
   "source": [
    "8. Напишите короткий абзац, в котором кратко изложите свои выводы и то, как, по вашему мнению, эти данные могут быть использованы в интересах Mycrunch при маркетинге CrunchieMunchies."
   ]
  },
  {
   "cell_type": "markdown",
   "id": "c260fee9",
   "metadata": {},
   "source": [
    "\n",
    "На основании анализа данных о содержании калорий в хлопьях, мы установили, что значительная доля конкурентов предлагает продукты с более чем 60 калориями на порцию. Это создает уникальную возможность для Mycrunch продвигать CrunchieMunchies как более здоровый выбор, подчеркивая его низкое содержание калорий в маркетинговых материалах."
   ]
  }
 ],
 "metadata": {
  "kernelspec": {
   "display_name": "Python 3 (ipykernel)",
   "language": "python",
   "name": "python3"
  },
  "language_info": {
   "codemirror_mode": {
    "name": "ipython",
    "version": 3
   },
   "file_extension": ".py",
   "mimetype": "text/x-python",
   "name": "python",
   "nbconvert_exporter": "python",
   "pygments_lexer": "ipython3",
   "version": "3.12.3"
  }
 },
 "nbformat": 4,
 "nbformat_minor": 5
}
